{
  "nbformat": 4,
  "nbformat_minor": 0,
  "metadata": {
    "colab": {
      "name": "SGD_example.ipynb",
      "provenance": [],
      "collapsed_sections": [],
      "authorship_tag": "ABX9TyMfbbCE0ZKP9WkO/MngdACL",
      "include_colab_link": true
    },
    "kernelspec": {
      "name": "python3",
      "display_name": "Python 3"
    },
    "language_info": {
      "name": "python"
    }
  },
  "cells": [
    {
      "cell_type": "markdown",
      "metadata": {
        "id": "view-in-github",
        "colab_type": "text"
      },
      "source": [
        "<a href=\"https://colab.research.google.com/github/LeyloJohnny/First-ML/blob/main/SGD_example.ipynb\" target=\"_parent\"><img src=\"https://colab.research.google.com/assets/colab-badge.svg\" alt=\"Open In Colab\"/></a>"
      ]
    },
    {
      "cell_type": "code",
      "metadata": {
        "colab": {
          "base_uri": "https://localhost:8080/"
        },
        "id": "D9YuouJ0rMhm",
        "outputId": "ee681148-9bd9-49b6-e900-c81b9dde7b0e"
      },
      "source": [
        "#hide\n",
        "!pip install -Uqq fastbook\n",
        "import fastbook\n",
        "fastbook.setup_book()"
      ],
      "execution_count": 2,
      "outputs": [
        {
          "output_type": "stream",
          "text": [
            "\u001b[K     |████████████████████████████████| 727kB 7.0MB/s \n",
            "\u001b[K     |████████████████████████████████| 1.2MB 16.0MB/s \n",
            "\u001b[K     |████████████████████████████████| 51kB 5.6MB/s \n",
            "\u001b[K     |████████████████████████████████| 194kB 35.6MB/s \n",
            "\u001b[K     |████████████████████████████████| 51kB 5.9MB/s \n",
            "\u001b[K     |████████████████████████████████| 61kB 7.1MB/s \n",
            "\u001b[K     |████████████████████████████████| 776.8MB 21kB/s \n",
            "\u001b[K     |████████████████████████████████| 12.8MB 56.7MB/s \n",
            "\u001b[31mERROR: torchtext 0.9.1 has requirement torch==1.8.1, but you'll have torch 1.7.1 which is incompatible.\u001b[0m\n",
            "\u001b[?25hMounted at /content/gdrive\n"
          ],
          "name": "stdout"
        }
      ]
    },
    {
      "cell_type": "code",
      "metadata": {
        "id": "sEUTgycprU5N"
      },
      "source": [
        "#hide\n",
        "from fastai.vision.all import *\n",
        "from fastbook import *\n",
        "\n",
        "matplotlib.rc('image', cmap='Greys')"
      ],
      "execution_count": 3,
      "outputs": []
    },
    {
      "cell_type": "markdown",
      "metadata": {
        "id": "sGL2Pvc346fl"
      },
      "source": [
        "Idea of the example: Speed of a roller coaster over time."
      ]
    },
    {
      "cell_type": "code",
      "metadata": {
        "colab": {
          "base_uri": "https://localhost:8080/"
        },
        "id": "-bz5f0ea4_hC",
        "outputId": "38793207-2a54-4039-dad0-6603ffe7a01a"
      },
      "source": [
        "#define time tensor\n",
        "time = torch.arange(0,20).float()\n",
        "time"
      ],
      "execution_count": 48,
      "outputs": [
        {
          "output_type": "execute_result",
          "data": {
            "text/plain": [
              "tensor([ 0.,  1.,  2.,  3.,  4.,  5.,  6.,  7.,  8.,  9., 10., 11., 12., 13., 14., 15., 16., 17., 18., 19.])"
            ]
          },
          "metadata": {
            "tags": []
          },
          "execution_count": 48
        }
      ]
    },
    {
      "cell_type": "code",
      "metadata": {
        "colab": {
          "base_uri": "https://localhost:8080/",
          "height": 268
        },
        "id": "ea-z4RGF5HCw",
        "outputId": "fbe2a4ba-1676-4e63-ac95-8eea88adac5e"
      },
      "source": [
        "#define speed function as a simple quadratic function, adding a bit of noise by using random numbers\n",
        "speed = torch.randn(20)*3 + 0.75*(time-9.5)**2 + 1\n",
        "plt.scatter(time,speed);"
      ],
      "execution_count": 53,
      "outputs": [
        {
          "output_type": "display_data",
          "data": {
            "image/png": "[encoded data removed]",
            "text/plain": [
              "<Figure size 432x288 with 1 Axes>"
            ]
          },
          "metadata": {
            "tags": [],
            "needs_background": "light"
          }
        }
      ]
    },
    {
      "cell_type": "markdown",
      "metadata": {
        "id": "uc8cFtwA6aDT"
      },
      "source": [
        "Distinguish clearly between the function's input (the time when we are measuring the coaster's speed: t) and its parameters (the values that define which quadratic we're trying, param). \n",
        "\n",
        "So, let's collect the parameters in one argument and thus separate the input, t, and the parameters, params, in the function's signature: "
      ]
    },
    {
      "cell_type": "code",
      "metadata": {
        "id": "fv0yIA4L6VJu"
      },
      "source": [
        "#let's just guess it's a quadratic function, defined by three parameters a, b, and c\n",
        "def f(t, params):\n",
        "    a,b,c = params\n",
        "    return a*(t**2) + (b*t) + c"
      ],
      "execution_count": 54,
      "outputs": []
    },
    {
      "cell_type": "markdown",
      "metadata": {
        "id": "YJqIa_tS8ZPN"
      },
      "source": [
        "**Step one:** Initialize parameters"
      ]
    },
    {
      "cell_type": "code",
      "metadata": {
        "id": "dPjizUq28eN_"
      },
      "source": [
        "#parameters are randomly initialized, requires_grad --> tell PyTorch that we want to keep track of the gradients\n",
        "params = torch.randn(3).requires_grad_()"
      ],
      "execution_count": 82,
      "outputs": []
    },
    {
      "cell_type": "code",
      "metadata": {
        "id": "33qxT0HE8hxM"
      },
      "source": [
        "#keep original parameters \n",
        "orig_params = params.clone()"
      ],
      "execution_count": 83,
      "outputs": []
    },
    {
      "cell_type": "markdown",
      "metadata": {
        "id": "O1kFhp1282QA"
      },
      "source": [
        "**Step 2:** Calculate the predictions"
      ]
    },
    {
      "cell_type": "code",
      "metadata": {
        "id": "Hd-Us5HZ81-Q"
      },
      "source": [
        "#calculate the predictions: \n",
        "preds = f(time, params)"
      ],
      "execution_count": 84,
      "outputs": []
    },
    {
      "cell_type": "code",
      "metadata": {
        "id": "QULztj949FYa"
      },
      "source": [
        "#create a function to visualize how close our predictions are to the targets:\n",
        "def show_preds(preds, ax=None):\n",
        "    if ax is None: ax=plt.subplots()[1]\n",
        "    ax.scatter(time, speed)\n",
        "    ax.scatter(time, to_np(preds), color='red')\n",
        "    ax.set_ylim(-300,100)"
      ],
      "execution_count": 85,
      "outputs": []
    },
    {
      "cell_type": "code",
      "metadata": {
        "colab": {
          "base_uri": "https://localhost:8080/",
          "height": 273
        },
        "id": "FPzYha9w9Q53",
        "outputId": "4b59bbe7-60a3-4b27-bb36-bfa2f10f6e6b"
      },
      "source": [
        "#this looks shitty\n",
        "show_preds(preds)"
      ],
      "execution_count": 86,
      "outputs": [
        {
          "output_type": "display_data",
          "data": {
            "image/png": "[encoded data removed]",
            "text/plain": [
              "<Figure size 432x288 with 1 Axes>"
            ]
          },
          "metadata": {
            "tags": [],
            "needs_background": "light"
          }
        }
      ]
    },
    {
      "cell_type": "markdown",
      "metadata": {
        "id": "NflLlFnf9uNc"
      },
      "source": [
        "**Step 3:** Calculate the loss"
      ]
    },
    {
      "cell_type": "code",
      "metadata": {
        "colab": {
          "base_uri": "https://localhost:8080/"
        },
        "id": "dw7ZE2SW9trV",
        "outputId": "1ab3ba14-f120-4a83-f1d2-a0664529ccdd"
      },
      "source": [
        "#let's evaluate it by calculating the loss\n",
        "loss = mse(preds, speed)\n",
        "loss\n",
        "#now we need to improve this loss"
      ],
      "execution_count": 87,
      "outputs": [
        {
          "output_type": "execute_result",
          "data": {
            "text/plain": [
              "TensorBase(61624.2266, grad_fn=<AliasBackward>)"
            ]
          },
          "metadata": {
            "tags": []
          },
          "execution_count": 87
        }
      ]
    },
    {
      "cell_type": "markdown",
      "metadata": {
        "id": "2WnGzy_EEE6A"
      },
      "source": [
        "**Step 4:** Calculate the gradients"
      ]
    },
    {
      "cell_type": "code",
      "metadata": {
        "colab": {
          "base_uri": "https://localhost:8080/"
        },
        "id": "g0yYRSuOEEwD",
        "outputId": "47953c1a-8f42-40da-fb83-e0916d33b8c4"
      },
      "source": [
        "#Calculate the gradients (an approximation of how the parameters need to change)\n",
        "loss.backward()\n",
        "params.grad"
      ],
      "execution_count": 88,
      "outputs": [
        {
          "output_type": "execute_result",
          "data": {
            "text/plain": [
              "tensor([-82815.9766,  -5326.2920,   -385.1207])"
            ]
          },
          "metadata": {
            "tags": []
          },
          "execution_count": 88
        }
      ]
    },
    {
      "cell_type": "code",
      "metadata": {
        "colab": {
          "base_uri": "https://localhost:8080/"
        },
        "id": "I8YyhgaPEdjM",
        "outputId": "dc6e1ea4-6237-4819-a2de-8937d5f531e0"
      },
      "source": [
        "#the gradients can be used to improve our parameters\n",
        "params"
      ],
      "execution_count": 89,
      "outputs": [
        {
          "output_type": "execute_result",
          "data": {
            "text/plain": [
              "tensor([-1.2842, -0.6917, -0.5359], requires_grad=True)"
            ]
          },
          "metadata": {
            "tags": []
          },
          "execution_count": 89
        }
      ]
    },
    {
      "cell_type": "markdown",
      "metadata": {
        "id": "tCc8LC-SErKK"
      },
      "source": [
        "**Step 5:** Step the weights"
      ]
    },
    {
      "cell_type": "code",
      "metadata": {
        "id": "1tsRSkYmEt_4"
      },
      "source": [
        "#define a learning rate\n",
        "lr = 1e-5\n",
        "#update parameters using the learning rate and the gradients\n",
        "params.data -= lr * params.grad.data\n",
        "#delete value of gradients?\n",
        "params.grad = None"
      ],
      "execution_count": 90,
      "outputs": []
    },
    {
      "cell_type": "markdown",
      "metadata": {
        "id": "8VYfrj3oHyBR"
      },
      "source": [
        "Short explaination here: To calculate the gradients we call backward on the loss. Loss was itself calculated by mse, which took preds as an input, which was calculated using f taking as an input params, which was the object on which we originally called required_grads_— which is the original call that now allows us to call backward on loss. "
      ]
    },
    {
      "cell_type": "code",
      "metadata": {
        "colab": {
          "base_uri": "https://localhost:8080/"
        },
        "id": "2csC1vwfIRBf",
        "outputId": "28e7cb1b-079a-469c-84af-5f8727ad0b54"
      },
      "source": [
        "#has the loss improved?\n",
        "preds = f(time,params)\n",
        "mse(preds, speed)"
      ],
      "execution_count": 91,
      "outputs": [
        {
          "output_type": "execute_result",
          "data": {
            "text/plain": [
              "TensorBase(12209.7520, grad_fn=<AliasBackward>)"
            ]
          },
          "metadata": {
            "tags": []
          },
          "execution_count": 91
        }
      ]
    },
    {
      "cell_type": "code",
      "metadata": {
        "colab": {
          "base_uri": "https://localhost:8080/",
          "height": 273
        },
        "id": "8GZRXBuVIV2J",
        "outputId": "ce90dacb-2ceb-4286-8079-c607a84975da"
      },
      "source": [
        "#let's see:\n",
        "show_preds(preds)"
      ],
      "execution_count": 92,
      "outputs": [
        {
          "output_type": "display_data",
          "data": {
            "image/png": "[encoded data removed]",
            "text/plain": [
              "<Figure size 432x288 with 1 Axes>"
            ]
          },
          "metadata": {
            "tags": [],
            "needs_background": "light"
          }
        }
      ]
    },
    {
      "cell_type": "code",
      "metadata": {
        "id": "4lYAwXe-IbCP"
      },
      "source": [
        "#yaaaaaaaaay"
      ],
      "execution_count": null,
      "outputs": []
    },
    {
      "cell_type": "markdown",
      "metadata": {
        "id": "5GRI9yvwIZfB"
      },
      "source": [
        "Let's make it a function to apply one step:"
      ]
    },
    {
      "cell_type": "code",
      "metadata": {
        "id": "I07A2ak1IpI5"
      },
      "source": [
        "def apply_step(params, prn=True):\n",
        "    preds = f(time, params)\n",
        "    loss = mse(preds, speed)\n",
        "    loss.backward()\n",
        "    params.data -= lr * params.grad.data\n",
        "    params.grad = None\n",
        "    if prn: print(loss.item())\n",
        "    return preds"
      ],
      "execution_count": 93,
      "outputs": []
    },
    {
      "cell_type": "markdown",
      "metadata": {
        "id": "MuAsS_4NI3QB"
      },
      "source": [
        "**Step 6:** Repeat the process"
      ]
    },
    {
      "cell_type": "code",
      "metadata": {
        "colab": {
          "base_uri": "https://localhost:8080/"
        },
        "id": "j3ipYo7_KHqJ",
        "outputId": "b23b05f1-e6cb-4bef-e50f-659a403d2b0c"
      },
      "source": [
        "for i in range(10): apply_step(params)\n",
        "#the loss is decreasing!"
      ],
      "execution_count": 110,
      "outputs": [
        {
          "output_type": "stream",
          "text": [
            "676.2958374023438\n",
            "676.2899780273438\n",
            "676.2841796875\n",
            "676.2784423828125\n",
            "676.2725830078125\n",
            "676.266845703125\n",
            "676.260986328125\n",
            "676.2552490234375\n",
            "676.2494506835938\n",
            "676.2437744140625\n"
          ],
          "name": "stdout"
        }
      ]
    },
    {
      "cell_type": "code",
      "metadata": {
        "id": "y6QOGvmRKlpx"
      },
      "source": [
        "#hide\n",
        "params = orig_params.detach().requires_grad_()"
      ],
      "execution_count": 111,
      "outputs": []
    },
    {
      "cell_type": "code",
      "metadata": {
        "colab": {
          "base_uri": "https://localhost:8080/",
          "height": 221
        },
        "id": "GlCR0rLdKsgp",
        "outputId": "10dba5fe-64df-4f2f-c19a-36d26cbc72b2"
      },
      "source": [
        "#let's visualize this:\n",
        "_,axs = plt.subplots(1,4,figsize=(12,3))\n",
        "for ax in axs: show_preds(apply_step(params, False), ax)\n",
        "#tight_layout could be plt.show(), both works\n",
        "plt.tight_layout()"
      ],
      "execution_count": 112,
      "outputs": [
        {
          "output_type": "display_data",
          "data": {
            "image/png": "[encoded data removed]",
            "text/plain": [
              "<Figure size 864x216 with 4 Axes>"
            ]
          },
          "metadata": {
            "tags": [],
            "needs_background": "light"
          }
        }
      ]
    },
    {
      "cell_type": "markdown",
      "metadata": {
        "id": "V-LzVbS7LOnh"
      },
      "source": [
        "**Step 7:** Stop"
      ]
    },
    {
      "cell_type": "code",
      "metadata": {
        "id": "mLvlz8aVLUOn"
      },
      "source": [
        "#easy, done."
      ],
      "execution_count": null,
      "outputs": []
    }
  ]
}
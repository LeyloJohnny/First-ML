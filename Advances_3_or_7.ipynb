{
  "nbformat": 4,
  "nbformat_minor": 0,
  "metadata": {
    "colab": {
      "name": "Advances_3_or_7.ipynb",
      "provenance": [],
      "collapsed_sections": [],
      "authorship_tag": "ABX9TyPQ5LUGmtCmTf8HCM1lxuDn",
      "include_colab_link": true
    },
    "kernelspec": {
      "name": "python3",
      "display_name": "Python 3"
    },
    "language_info": {
      "name": "python"
    }
  },
  "cells": [
    {
      "cell_type": "markdown",
      "metadata": {
        "id": "view-in-github",
        "colab_type": "text"
      },
      "source": [
        "<a href=\"https://colab.research.google.com/github/LeyloJohnny/First-ML/blob/main/Advances_3_or_7.ipynb\" target=\"_parent\"><img src=\"https://colab.research.google.com/assets/colab-badge.svg\" alt=\"Open In Colab\"/></a>"
      ]
    },
    {
      "cell_type": "code",
      "metadata": {
        "colab": {
          "base_uri": "https://localhost:8080/"
        },
        "id": "HdFYVkYqC0I1",
        "outputId": "13c9c206-dd87-4d2d-a721-7911701260a1"
      },
      "source": [
        "#hide\n",
        "!pip install -Uqq fastbook\n",
        "import fastbook\n",
        "fastbook.setup_book()"
      ],
      "execution_count": 1,
      "outputs": [
        {
          "output_type": "stream",
          "text": [
            "\u001b[K     |████████████████████████████████| 727kB 5.0MB/s \n",
            "\u001b[K     |████████████████████████████████| 51kB 5.4MB/s \n",
            "\u001b[K     |████████████████████████████████| 194kB 8.0MB/s \n",
            "\u001b[K     |████████████████████████████████| 1.2MB 12.1MB/s \n",
            "\u001b[K     |████████████████████████████████| 51kB 5.9MB/s \n",
            "\u001b[K     |████████████████████████████████| 61kB 7.1MB/s \n",
            "\u001b[K     |████████████████████████████████| 12.8MB 284kB/s \n",
            "\u001b[K     |████████████████████████████████| 776.8MB 22kB/s \n",
            "\u001b[31mERROR: torchtext 0.9.1 has requirement torch==1.8.1, but you'll have torch 1.7.1 which is incompatible.\u001b[0m\n",
            "\u001b[?25hMounted at /content/gdrive\n"
          ],
          "name": "stdout"
        }
      ]
    },
    {
      "cell_type": "code",
      "metadata": {
        "id": "bIMy90R-EIBC"
      },
      "source": [
        "#hide\n",
        "from fastai.vision.all import *\n",
        "from fastbook import *\n",
        "\n",
        "matplotlib.rc('image', cmap='Greys')"
      ],
      "execution_count": 2,
      "outputs": []
    },
    {
      "cell_type": "markdown",
      "metadata": {
        "id": "KwGzvw2MEPFQ"
      },
      "source": [
        "#What functions do we have?"
      ]
    },
    {
      "cell_type": "markdown",
      "metadata": {
        "id": "x1u56Lr5ET3t"
      },
      "source": [
        "Initialize parameters:"
      ]
    },
    {
      "cell_type": "code",
      "metadata": {
        "id": "zddM30_EEO0H"
      },
      "source": [
        "#function to initialize random parameters, important: keep track of gradients!\n",
        "def init_params(size, std=1.0): return (torch.randn(size)*std).requires_grad_()"
      ],
      "execution_count": 12,
      "outputs": []
    },
    {
      "cell_type": "markdown",
      "metadata": {
        "id": "Aaz8BbejEb0t"
      },
      "source": [
        "Matrix multiplication:"
      ]
    },
    {
      "cell_type": "code",
      "metadata": {
        "id": "D_nDM78NEewn"
      },
      "source": [
        "#matrix multiplication used to make predictions (= parameters) based on weights and bias (y=w*x+b)\n",
        "def linear1(xb): return xb@weights + bias"
      ],
      "execution_count": 13,
      "outputs": []
    },
    {
      "cell_type": "markdown",
      "metadata": {
        "id": "gH_Sob-EEWf_"
      },
      "source": [
        "Loss function:"
      ]
    },
    {
      "cell_type": "code",
      "metadata": {
        "id": "_ou1935lE5Ut"
      },
      "source": [
        "#update weights using loss function \n",
        "def mnist_loss(predictions, targets):\n",
        "  #apply sigmoid function to ensure that values are between 0 and 1\n",
        "    predictions = predictions.sigmoid()\n",
        "    return torch.where(targets==1, 1-predictions, predictions).mean()"
      ],
      "execution_count": 14,
      "outputs": []
    },
    {
      "cell_type": "markdown",
      "metadata": {
        "id": "1NMxmtB-FELJ"
      },
      "source": [
        "#Defining a dataset:"
      ]
    },
    {
      "cell_type": "markdown",
      "metadata": {
        "id": "sjAfZjQCIy-e"
      },
      "source": [
        "**IN GENERAL**"
      ]
    },
    {
      "cell_type": "code",
      "metadata": {
        "colab": {
          "base_uri": "https://localhost:8080/"
        },
        "id": "_nMG0SfqFPzD",
        "outputId": "f53eb696-9dbf-4a81-b7f6-7d5a820e721d"
      },
      "source": [
        "#collection defined as a range between 0 and 15\n",
        "coll = range(15)\n",
        "#define dataset\n",
        "#containing all numbers from 0 to 15 (coll) randomly shuffeled in tensors consisting of 5 numbers each (batch_size)\n",
        "dl = DataLoader(coll, batch_size=5, shuffle=True)\n",
        "list(dl)"
      ],
      "execution_count": 8,
      "outputs": [
        {
          "output_type": "execute_result",
          "data": {
            "text/plain": [
              "[tensor([ 3, 12,  8, 10,  2]),\n",
              " tensor([ 9,  4,  7, 14,  5]),\n",
              " tensor([ 1, 13,  0,  6, 11])]"
            ]
          },
          "metadata": {
            "tags": []
          },
          "execution_count": 8
        }
      ]
    },
    {
      "cell_type": "code",
      "metadata": {
        "colab": {
          "base_uri": "https://localhost:8080/"
        },
        "id": "nW3x3gzxGmwE",
        "outputId": "ededd1b1-9a2e-408b-dbb0-eebfeb48822d"
      },
      "source": [
        "#make a really simple dataset of number/letter tupels:\n",
        "ds = L(enumerate(string.ascii_lowercase))\n",
        "ds"
      ],
      "execution_count": 9,
      "outputs": [
        {
          "output_type": "execute_result",
          "data": {
            "text/plain": [
              "(#26) [(0, 'a'),(1, 'b'),(2, 'c'),(3, 'd'),(4, 'e'),(5, 'f'),(6, 'g'),(7, 'h'),(8, 'i'),(9, 'j')...]"
            ]
          },
          "metadata": {
            "tags": []
          },
          "execution_count": 9
        }
      ]
    },
    {
      "cell_type": "code",
      "metadata": {
        "colab": {
          "base_uri": "https://localhost:8080/"
        },
        "id": "v8r-x4xGG1WU",
        "outputId": "081e37f2-4377-4045-bc91-771c9d5a03ed"
      },
      "source": [
        "#pass a Dataset to a DataLoader\n",
        "dl = DataLoader(ds, batch_size=6, shuffle=True)\n",
        "#output: batches which are themselves tuples of tensors representing batches of independent and dependent variables\n",
        "list(dl)"
      ],
      "execution_count": 10,
      "outputs": [
        {
          "output_type": "execute_result",
          "data": {
            "text/plain": [
              "[(tensor([17, 18, 10, 22,  8, 14]), ('r', 's', 'k', 'w', 'i', 'o')),\n",
              " (tensor([20, 15,  9, 13, 21, 12]), ('u', 'p', 'j', 'n', 'v', 'm')),\n",
              " (tensor([ 7, 25,  6,  5, 11, 23]), ('h', 'z', 'g', 'f', 'l', 'x')),\n",
              " (tensor([ 1,  3,  0, 24, 19, 16]), ('b', 'd', 'a', 'y', 't', 'q')),\n",
              " (tensor([2, 4]), ('c', 'e'))]"
            ]
          },
          "metadata": {
            "tags": []
          },
          "execution_count": 10
        }
      ]
    },
    {
      "cell_type": "markdown",
      "metadata": {
        "id": "9x6Wjq-jI44s"
      },
      "source": [
        "**EXAMPLE WITH 3 AND 7**"
      ]
    },
    {
      "cell_type": "code",
      "metadata": {
        "id": "gQn7uEsWJBye"
      },
      "source": [
        "#download a sample of MNIST that contains images of 3 and 7 digits\n",
        "path = untar_data(URLs.MNIST_SAMPLE)"
      ],
      "execution_count": null,
      "outputs": []
    },
    {
      "cell_type": "code",
      "metadata": {
        "id": "BHDZnwtQJD7y"
      },
      "source": [
        "#hide\n",
        "Path.BASE_PATH = path"
      ],
      "execution_count": 17,
      "outputs": []
    },
    {
      "cell_type": "code",
      "metadata": {
        "id": "U9Ox1AEKJHFN"
      },
      "source": [
        "#sort dataset to make sure we get the same order of files\n",
        "threes = (path/'train'/'3').ls().sorted()\n",
        "sevens = (path/'train'/'7').ls().sorted()"
      ],
      "execution_count": 18,
      "outputs": []
    },
    {
      "cell_type": "code",
      "metadata": {
        "colab": {
          "base_uri": "https://localhost:8080/"
        },
        "id": "XmFGzxIdJI5N",
        "outputId": "9179e97e-d1da-4a9d-e18f-bc9ea0a03e08"
      },
      "source": [
        "#make tensors for all threes and all sevens\n",
        "seven_tensors = [tensor(Image.open(o)) for o in sevens]\n",
        "three_tensors = [tensor(Image.open(o)) for o in threes]\n",
        "len(three_tensors),len(seven_tensors)"
      ],
      "execution_count": 19,
      "outputs": [
        {
          "output_type": "execute_result",
          "data": {
            "text/plain": [
              "(6131, 6265)"
            ]
          },
          "metadata": {
            "tags": []
          },
          "execution_count": 19
        }
      ]
    },
    {
      "cell_type": "code",
      "metadata": {
        "colab": {
          "base_uri": "https://localhost:8080/"
        },
        "id": "0eokXh3zJMCk",
        "outputId": "885ca7ae-8461-40d8-f00d-1008d66afa07"
      },
      "source": [
        "#stack images --> make a 3D tensor from all tensors to get pixel average afterwards\n",
        "#divide by 255 to get numbers between 0 and 1\n",
        "stacked_sevens = torch.stack(seven_tensors).float()/255\n",
        "stacked_threes = torch.stack(three_tensors).float()/255\n",
        "stacked_threes.shape"
      ],
      "execution_count": 20,
      "outputs": [
        {
          "output_type": "execute_result",
          "data": {
            "text/plain": [
              "torch.Size([6131, 28, 28])"
            ]
          },
          "metadata": {
            "tags": []
          },
          "execution_count": 20
        }
      ]
    },
    {
      "cell_type": "code",
      "metadata": {
        "colab": {
          "base_uri": "https://localhost:8080/"
        },
        "id": "-QVAxyI4JOAK",
        "outputId": "65e5a5f3-1263-4fe6-ac3d-22bc5bbb06d0"
      },
      "source": [
        "#create tensors from validation \"valid\" dataset\n",
        "valid_3_tens = torch.stack([tensor(Image.open(o)) for o in (path/'valid'/'3').ls()])\n",
        "valid_3_tens = valid_3_tens.float()/255\n",
        "valid_7_tens = torch.stack([tensor(Image.open(o)) for o in (path/'valid'/'7').ls()])\n",
        "valid_7_tens = valid_7_tens.float()/255\n",
        "\n",
        "#check if the shape is correct\n",
        "valid_3_tens.shape,valid_7_tens.shape"
      ],
      "execution_count": 22,
      "outputs": [
        {
          "output_type": "execute_result",
          "data": {
            "text/plain": [
              "(torch.Size([1010, 28, 28]), torch.Size([1028, 28, 28]))"
            ]
          },
          "metadata": {
            "tags": []
          },
          "execution_count": 22
        }
      ]
    },
    {
      "cell_type": "code",
      "metadata": {
        "colab": {
          "base_uri": "https://localhost:8080/"
        },
        "id": "SBG5VnoFJS2Y",
        "outputId": "e9354feb-fc96-4aab-893b-1ff317ce8b4e"
      },
      "source": [
        "#define training set and convert 3-rank tensor into 2-rank tensor\n",
        "train_x = torch.cat([stacked_threes, stacked_sevens]).view(-1, 28*28)\n",
        "train_x.shape"
      ],
      "execution_count": 23,
      "outputs": [
        {
          "output_type": "execute_result",
          "data": {
            "text/plain": [
              "torch.Size([12396, 784])"
            ]
          },
          "metadata": {
            "tags": []
          },
          "execution_count": 23
        }
      ]
    },
    {
      "cell_type": "code",
      "metadata": {
        "colab": {
          "base_uri": "https://localhost:8080/"
        },
        "id": "U4RcYhDSJU8G",
        "outputId": "8ecc4222-b8d8-4c8b-d026-9d8e38775bf1"
      },
      "source": [
        "#label data, 3s are given the label 1--> define as train_y\n",
        "train_y = tensor([1]*len(threes) + [0]*len(sevens)).unsqueeze(1)\n",
        "train_y.shape"
      ],
      "execution_count": 24,
      "outputs": [
        {
          "output_type": "execute_result",
          "data": {
            "text/plain": [
              "torch.Size([12396, 1])"
            ]
          },
          "metadata": {
            "tags": []
          },
          "execution_count": 24
        }
      ]
    },
    {
      "cell_type": "code",
      "metadata": {
        "colab": {
          "base_uri": "https://localhost:8080/"
        },
        "id": "aLoPAuYxJXBk",
        "outputId": "adbc1549-eb74-4f3e-9054-014504228253"
      },
      "source": [
        "#combine values to build a dataset consisting of a list of tuples (x, y) using zip\n",
        "dset = list(zip(train_x,train_y))\n",
        "x,y = dset[0]\n",
        "x.shape,y"
      ],
      "execution_count": 25,
      "outputs": [
        {
          "output_type": "execute_result",
          "data": {
            "text/plain": [
              "(torch.Size([784]), tensor([1]))"
            ]
          },
          "metadata": {
            "tags": []
          },
          "execution_count": 25
        }
      ]
    },
    {
      "cell_type": "code",
      "metadata": {
        "id": "ayFC1Ko_JZAv"
      },
      "source": [
        "#define the validation set similarly to the training set\n",
        "valid_x = torch.cat([valid_3_tens, valid_7_tens]).view(-1, 28*28)\n",
        "valid_y = tensor([1]*len(valid_3_tens) + [0]*len(valid_7_tens)).unsqueeze(1)\n",
        "valid_dset = list(zip(valid_x,valid_y))"
      ],
      "execution_count": 26,
      "outputs": []
    },
    {
      "cell_type": "markdown",
      "metadata": {
        "id": "Z0zRF4Y3HLk4"
      },
      "source": [
        "#Make the model:"
      ]
    },
    {
      "cell_type": "markdown",
      "metadata": {
        "id": "RjWcNtG3HexE"
      },
      "source": [
        "**Overview of workflow**\n",
        "\n",
        "for x,y in dl:\n",
        "\n",
        "> pred = model(x)\n",
        "\n",
        "> loss = loss_func(pred, y)\n",
        "\n",
        "> loss.backward()\n",
        "\n",
        "> parameters -= parameters.grad * lr\n",
        "  "
      ]
    },
    {
      "cell_type": "markdown",
      "metadata": {
        "id": "_bx0ksmjIXWF"
      },
      "source": [
        "**Initialize parameters**"
      ]
    },
    {
      "cell_type": "code",
      "metadata": {
        "id": "15FDv8XRHJUI"
      },
      "source": [
        "weights = init_params((28*28,1))\n",
        "bias = init_params(1)"
      ],
      "execution_count": 15,
      "outputs": []
    },
    {
      "cell_type": "markdown",
      "metadata": {
        "id": "3PfYmDhQJrin"
      },
      "source": [
        "**Create dataloader from dataset**"
      ]
    },
    {
      "cell_type": "code",
      "metadata": {
        "colab": {
          "base_uri": "https://localhost:8080/"
        },
        "id": "SacPwCVNICB-",
        "outputId": "d138b417-ed02-4ad2-ff9c-e6a773fe5fc5"
      },
      "source": [
        "#Dataloader from training set\n",
        "dl = DataLoader(dset, batch_size=256)\n",
        "xb,yb = first(dl)\n",
        "xb.shape,yb.shape"
      ],
      "execution_count": 27,
      "outputs": [
        {
          "output_type": "execute_result",
          "data": {
            "text/plain": [
              "(torch.Size([256, 784]), torch.Size([256, 1]))"
            ]
          },
          "metadata": {
            "tags": []
          },
          "execution_count": 27
        }
      ]
    },
    {
      "cell_type": "code",
      "metadata": {
        "id": "dsLkML2-J3hD"
      },
      "source": [
        "#Dataloader from validation set\n",
        "valid_dl = DataLoader(valid_dset, batch_size=256)"
      ],
      "execution_count": 28,
      "outputs": []
    },
    {
      "cell_type": "code",
      "metadata": {
        "colab": {
          "base_uri": "https://localhost:8080/"
        },
        "id": "ky7NIJUnJ9yG",
        "outputId": "9f00f9ba-62ca-4e20-d30a-0dbf0c34d0f6"
      },
      "source": [
        "#create mini batch of size 4 for training\n",
        "batch = train_x[:4]\n",
        "batch.shape"
      ],
      "execution_count": 29,
      "outputs": [
        {
          "output_type": "execute_result",
          "data": {
            "text/plain": [
              "torch.Size([4, 784])"
            ]
          },
          "metadata": {
            "tags": []
          },
          "execution_count": 29
        }
      ]
    },
    {
      "cell_type": "markdown",
      "metadata": {
        "id": "Y-AtV8zxKMGK"
      },
      "source": [
        "**Make predictions**"
      ]
    },
    {
      "cell_type": "code",
      "metadata": {
        "colab": {
          "base_uri": "https://localhost:8080/"
        },
        "id": "4RnMg9y5KKlj",
        "outputId": "f68460c9-2d87-4b04-e07a-107f65ef2dfe"
      },
      "source": [
        "#predictions based on our linear equation linear1\n",
        "preds = linear1(batch)\n",
        "preds"
      ],
      "execution_count": 30,
      "outputs": [
        {
          "output_type": "execute_result",
          "data": {
            "text/plain": [
              "tensor([[-2.8015],\n",
              "        [-2.9294],\n",
              "        [ 1.3709],\n",
              "        [-1.8300]], grad_fn=<AddBackward0>)"
            ]
          },
          "metadata": {
            "tags": []
          },
          "execution_count": 30
        }
      ]
    },
    {
      "cell_type": "markdown",
      "metadata": {
        "id": "HZ1RTjzPKYrB"
      },
      "source": [
        "**Calculate loss**"
      ]
    },
    {
      "cell_type": "code",
      "metadata": {
        "colab": {
          "base_uri": "https://localhost:8080/"
        },
        "id": "IF-HzF1WKXeQ",
        "outputId": "d76b91f8-320b-4000-e537-f2e47c9ccfff"
      },
      "source": [
        "#predictions based on our linear equation linear1\n",
        "loss = mnist_loss(preds, train_y[:4])\n",
        "loss"
      ],
      "execution_count": 31,
      "outputs": [
        {
          "output_type": "execute_result",
          "data": {
            "text/plain": [
              "tensor(0.7391, grad_fn=<MeanBackward0>)"
            ]
          },
          "metadata": {
            "tags": []
          },
          "execution_count": 31
        }
      ]
    },
    {
      "cell_type": "markdown",
      "metadata": {
        "id": "q-yN3ZF6Naec"
      },
      "source": [
        "**Calculate gradients**"
      ]
    },
    {
      "cell_type": "code",
      "metadata": {
        "colab": {
          "base_uri": "https://localhost:8080/"
        },
        "id": "uP-zcuAWNddp",
        "outputId": "ce87def7-eb0f-4312-d0f1-1e1eeac57552"
      },
      "source": [
        "loss.backward()\n",
        "#print out relevant results\n",
        "weights.grad.shape,weights.grad.mean(),bias.grad"
      ],
      "execution_count": 32,
      "outputs": [
        {
          "output_type": "execute_result",
          "data": {
            "text/plain": [
              "(torch.Size([784, 1]), tensor(-0.0147), tensor([-0.0957]))"
            ]
          },
          "metadata": {
            "tags": []
          },
          "execution_count": 32
        }
      ]
    },
    {
      "cell_type": "markdown",
      "metadata": {
        "id": "VxgpNC5eNpiA"
      },
      "source": [
        "**ALL IN ONE FUNCTION**"
      ]
    },
    {
      "cell_type": "code",
      "metadata": {
        "id": "MRU1-42TNrqW"
      },
      "source": [
        "#this function makes predictions based on a model, calculates the loss, and calculates the gradients\n",
        "def calc_grad(xb, yb, model):\n",
        "    preds = model(xb)\n",
        "    loss = mnist_loss(preds, yb)\n",
        "    loss.backward()"
      ],
      "execution_count": 34,
      "outputs": []
    },
    {
      "cell_type": "markdown",
      "metadata": {
        "id": "VwtQGfBJOLA_"
      },
      "source": [
        "Test the function with our model:"
      ]
    },
    {
      "cell_type": "code",
      "metadata": {
        "colab": {
          "base_uri": "https://localhost:8080/"
        },
        "id": "bRfhiQy8ONlc",
        "outputId": "5f00db80-27b9-4990-8f16-c1bc6751370e"
      },
      "source": [
        "calc_grad(batch, train_y[:4], linear1)\n",
        "weights.grad.mean(),bias.grad"
      ],
      "execution_count": 35,
      "outputs": [
        {
          "output_type": "execute_result",
          "data": {
            "text/plain": [
              "(tensor(-0.0293), tensor([-0.1914]))"
            ]
          },
          "metadata": {
            "tags": []
          },
          "execution_count": 35
        }
      ]
    },
    {
      "cell_type": "code",
      "metadata": {
        "colab": {
          "base_uri": "https://localhost:8080/"
        },
        "id": "RhVbSPZ8PVUp",
        "outputId": "c632ed06-88e2-4347-fab6-6e4bdcbd93bb"
      },
      "source": [
        "#but the gradients change if we call the function again\n",
        "calc_grad(batch, train_y[:4], linear1)\n",
        "weights.grad.mean(),bias.grad"
      ],
      "execution_count": 36,
      "outputs": [
        {
          "output_type": "execute_result",
          "data": {
            "text/plain": [
              "(tensor(-0.0440), tensor([-0.2870]))"
            ]
          },
          "metadata": {
            "tags": []
          },
          "execution_count": 36
        }
      ]
    },
    {
      "cell_type": "markdown",
      "metadata": {
        "id": "aW6xD20ZPhUE"
      },
      "source": [
        "The reason for this is that loss.backward actually adds the gradients of loss to any gradients that are currently stored. So, we have to set the current gradients to 0 first:"
      ]
    },
    {
      "cell_type": "code",
      "metadata": {
        "id": "izy1OAb3Piec"
      },
      "source": [
        "weights.grad.zero_()\n",
        "bias.grad.zero_();"
      ],
      "execution_count": 37,
      "outputs": []
    },
    {
      "cell_type": "markdown",
      "metadata": {
        "id": "5fOloyM6Pz17"
      },
      "source": [
        "**UPDATE WEIGHTS AND BIASES**"
      ]
    },
    {
      "cell_type": "code",
      "metadata": {
        "id": "GY5HOAxZPzJ8"
      },
      "source": [
        "#function for one training epoch, afterwards gradients are reset to 0\n",
        "def train_epoch(model, lr, params):\n",
        "    for xb,yb in dl:\n",
        "        calc_grad(xb, yb, model)\n",
        "        for p in params:\n",
        "            p.data -= p.grad*lr\n",
        "            p.grad.zero_()"
      ],
      "execution_count": 46,
      "outputs": []
    },
    {
      "cell_type": "code",
      "metadata": {
        "id": "Bd48l8fAQfM2"
      },
      "source": [
        "#check the accuracy?\n",
        "(preds>0.0).float() == train_y[:4]"
      ],
      "execution_count": null,
      "outputs": []
    },
    {
      "cell_type": "markdown",
      "metadata": {
        "id": "k-aiABhtQhFI"
      },
      "source": [
        "**Accuracy function**"
      ]
    },
    {
      "cell_type": "code",
      "metadata": {
        "id": "6jyl0HoaQjTW"
      },
      "source": [
        "#apply sigmoid function\n",
        "#find out how many labels were predicted correctly\n",
        "#return the mean of the float made from the True/False list\n",
        "def batch_accuracy(xb, yb):\n",
        "    preds = xb.sigmoid()\n",
        "    correct = (preds>0.5) == yb\n",
        "    return correct.float().mean()"
      ],
      "execution_count": 39,
      "outputs": []
    },
    {
      "cell_type": "code",
      "metadata": {
        "colab": {
          "base_uri": "https://localhost:8080/"
        },
        "id": "t3hhz7sgSmq9",
        "outputId": "e09042d9-61e2-49fe-cc02-e9345b729a0d"
      },
      "source": [
        "#test the model using the accuracy function\n",
        "batch_accuracy(linear1(batch), train_y[:4])"
      ],
      "execution_count": 40,
      "outputs": [
        {
          "output_type": "execute_result",
          "data": {
            "text/plain": [
              "tensor(0.2500)"
            ]
          },
          "metadata": {
            "tags": []
          },
          "execution_count": 40
        }
      ]
    },
    {
      "cell_type": "markdown",
      "metadata": {
        "id": "dJDn3X4LSyLf"
      },
      "source": [
        "**Validate function**\n",
        "\n",
        "Based on all batches"
      ]
    },
    {
      "cell_type": "code",
      "metadata": {
        "id": "RsmOqvftS39z"
      },
      "source": [
        "#get accuracy based on all batches and return mean value\n",
        "def validate_epoch(model):\n",
        "    accs = [batch_accuracy(model(xb), yb) for xb,yb in valid_dl]\n",
        "    return round(torch.stack(accs).mean().item(), 4)"
      ],
      "execution_count": 41,
      "outputs": []
    },
    {
      "cell_type": "code",
      "metadata": {
        "colab": {
          "base_uri": "https://localhost:8080/"
        },
        "id": "IjblVXH3TGCJ",
        "outputId": "0540f367-1ec9-434f-ddeb-cd60132449f9"
      },
      "source": [
        "#test the model based on our validation epoch\n",
        "validate_epoch(linear1)"
      ],
      "execution_count": 44,
      "outputs": [
        {
          "output_type": "execute_result",
          "data": {
            "text/plain": [
              "0.3033"
            ]
          },
          "metadata": {
            "tags": []
          },
          "execution_count": 44
        }
      ]
    },
    {
      "cell_type": "code",
      "metadata": {
        "colab": {
          "base_uri": "https://localhost:8080/"
        },
        "id": "wVvGFEsDTeUu",
        "outputId": "25fbd3a8-a14d-44a4-93c4-9e9eca63b820"
      },
      "source": [
        "#now that's our starting point\n",
        "lr = 1.\n",
        "params = weights,bias\n",
        "train_epoch(linear1, lr, params)\n",
        "validate_epoch(linear1)"
      ],
      "execution_count": 47,
      "outputs": [
        {
          "output_type": "execute_result",
          "data": {
            "text/plain": [
              "0.4962"
            ]
          },
          "metadata": {
            "tags": []
          },
          "execution_count": 47
        }
      ]
    },
    {
      "cell_type": "markdown",
      "metadata": {
        "id": "AXmliitRTwWk"
      },
      "source": [
        "Train and validate a few times:"
      ]
    },
    {
      "cell_type": "code",
      "metadata": {
        "colab": {
          "base_uri": "https://localhost:8080/"
        },
        "id": "oWKmYUR-Tye9",
        "outputId": "8a883fff-97cf-46b6-c159-734b22c2ce93"
      },
      "source": [
        "for i in range(20):\n",
        "    train_epoch(linear1, lr, params)\n",
        "    print(validate_epoch(linear1), end=' ')"
      ],
      "execution_count": 48,
      "outputs": [
        {
          "output_type": "stream",
          "text": [
            "0.4991 0.5718 0.6005 0.8525 0.9232 0.9412 0.9471 0.953 0.9574 0.9608 0.9618 0.9652 0.9666 0.9701 0.9725 0.9725 0.974 0.9745 0.975 0.9755 "
          ],
          "name": "stdout"
        }
      ]
    },
    {
      "cell_type": "markdown",
      "metadata": {
        "id": "8-XT8-LeT0Cj"
      },
      "source": [
        "Yaaaay! It gets better :)"
      ]
    }
  ]
}